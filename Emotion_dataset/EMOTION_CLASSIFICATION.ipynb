{
 "cells": [
  {
   "cell_type": "markdown",
   "id": "527d4405-051e-4b01-9688-3d8ef3875006",
   "metadata": {},
   "source": [
    "IMPORTANT LIBERARIES"
   ]
  },
  {
   "cell_type": "code",
   "execution_count": 4,
   "id": "e36f844e-f46a-46f6-b9dd-bedc12b38920",
   "metadata": {},
   "outputs": [],
   "source": [
    "import pandas as pd\n",
    "import numpy as np\n",
    "import re\n",
    "import string\n",
    "import nltk\n",
    "from nltk.corpus import stopwords\n",
    "from nltk.stem import WordNetLemmatizer\n",
    "import nltk"
   ]
  },
  {
   "cell_type": "markdown",
   "id": "eb0ff76c-1efc-4bba-8fc9-0aad64e0c619",
   "metadata": {},
   "source": [
    "DATA_SET "
   ]
  },
  {
   "cell_type": "code",
   "execution_count": 5,
   "id": "53ef20bb-d5fa-4836-8b78-b2a887436f4a",
   "metadata": {},
   "outputs": [],
   "source": [
    "train_df = pd.read_csv(\"Emotion_dataset/training.csv\")"
   ]
  },
  {
   "cell_type": "markdown",
   "id": "388719e2-7b44-4e8c-83e1-899b8159043b",
   "metadata": {},
   "source": [
    "UNDERSTANDING THE DATASET AND TRYING TO GET TO KNOW THE DATA AND TRYING TO UNDERSTAND THE DATA BY SOME METHOD"
   ]
  },
  {
   "cell_type": "code",
   "execution_count": 6,
   "id": "ac07ca35-9533-4d63-9d93-2bccfc4f2cc5",
   "metadata": {},
   "outputs": [
    {
     "data": {
      "text/html": [
       "<div>\n",
       "<style scoped>\n",
       "    .dataframe tbody tr th:only-of-type {\n",
       "        vertical-align: middle;\n",
       "    }\n",
       "\n",
       "    .dataframe tbody tr th {\n",
       "        vertical-align: top;\n",
       "    }\n",
       "\n",
       "    .dataframe thead th {\n",
       "        text-align: right;\n",
       "    }\n",
       "</style>\n",
       "<table border=\"1\" class=\"dataframe\">\n",
       "  <thead>\n",
       "    <tr style=\"text-align: right;\">\n",
       "      <th></th>\n",
       "      <th>text</th>\n",
       "      <th>label</th>\n",
       "    </tr>\n",
       "  </thead>\n",
       "  <tbody>\n",
       "    <tr>\n",
       "      <th>0</th>\n",
       "      <td>i didnt feel humiliated</td>\n",
       "      <td>0</td>\n",
       "    </tr>\n",
       "    <tr>\n",
       "      <th>1</th>\n",
       "      <td>i can go from feeling so hopeless to so damned...</td>\n",
       "      <td>0</td>\n",
       "    </tr>\n",
       "    <tr>\n",
       "      <th>2</th>\n",
       "      <td>im grabbing a minute to post i feel greedy wrong</td>\n",
       "      <td>3</td>\n",
       "    </tr>\n",
       "    <tr>\n",
       "      <th>3</th>\n",
       "      <td>i am ever feeling nostalgic about the fireplac...</td>\n",
       "      <td>2</td>\n",
       "    </tr>\n",
       "    <tr>\n",
       "      <th>4</th>\n",
       "      <td>i am feeling grouchy</td>\n",
       "      <td>3</td>\n",
       "    </tr>\n",
       "  </tbody>\n",
       "</table>\n",
       "</div>"
      ],
      "text/plain": [
       "                                                text  label\n",
       "0                            i didnt feel humiliated      0\n",
       "1  i can go from feeling so hopeless to so damned...      0\n",
       "2   im grabbing a minute to post i feel greedy wrong      3\n",
       "3  i am ever feeling nostalgic about the fireplac...      2\n",
       "4                               i am feeling grouchy      3"
      ]
     },
     "execution_count": 6,
     "metadata": {},
     "output_type": "execute_result"
    }
   ],
   "source": [
    "train_df.head()"
   ]
  },
  {
   "cell_type": "markdown",
   "id": "f3ded4b3-8972-466d-94df-3591cb249969",
   "metadata": {},
   "source": [
    "UNIQUE VALUES IN THE DATA_SET TO FIND HOW MANY EMOTION IS UESED IN THIS CASE THER ARE THE TOTAL OF 5 UNIQUE NUMBERS SO THERE ARE 5 EMOTION ARE USED IN THIS DATA_SET"
   ]
  },
  {
   "cell_type": "code",
   "execution_count": 7,
   "id": "b1d547df-8d24-4a7a-abce-9ae6f5780caa",
   "metadata": {},
   "outputs": [
    {
     "data": {
      "text/plain": [
       "array([0, 3, 2, 5, 4, 1])"
      ]
     },
     "execution_count": 7,
     "metadata": {},
     "output_type": "execute_result"
    }
   ],
   "source": [
    "train_df['label'].unique()"
   ]
  },
  {
   "cell_type": "markdown",
   "id": "2c702a77-7ad1-4aab-bed9-84e8cbe5aabb",
   "metadata": {},
   "source": [
    "SO AFTER KNOWING THE UNIQUE IN THE LABEL NOW WE NEED TO FIND THE THE MEANING BEHIND THE LABEL NUMBERS FOR EXAMPLE THE NUMBER 0 IN THE LABEL FEATURE OR TARGET FEATURE REPRESENT A KIND OF EMOTION BUT WE DID'T KNOW THAT BUT WE CAN GET BY GETTING SOME IDEAS FROM THE TEXT FEATURES."
   ]
  },
  {
   "cell_type": "code",
   "execution_count": 8,
   "id": "828cc2b6-c8a0-4361-814f-36d6a95debbd",
   "metadata": {},
   "outputs": [
    {
     "name": "stdout",
     "output_type": "stream",
     "text": [
      "Label 1 samples:\n",
      "- i have to go straight out after work and need to feel instantly glamorous i will usually wear a pair of our nw skinnies with a pair of high high shoes\n",
      "- i did not sleep better my food did not taste better my thoughts were not clearer i did not feel more vigorous i was in essence pounds of body and mind almost exclusively devoted to thinking about the cigarette i wanted but could not have\n",
      "- i spend all day in bed or when im feeling adventurous on the couch because when i get up my leg hurts worse than my aching heart after titanic\n",
      "- i was like that too before i really heck care about having nice feeds and post whatever photos i feel like they only comment on cool peoples photos\n",
      "- i feel like this project will actually help me pick a valuable car that is decent looking as well as efficient to my everyday use\n",
      "\n",
      "\n",
      "Label 2 samples:\n",
      "- i hope someday when i am again in a position to give that i will remember how it feels and be sympathetic and sensitive to others\n",
      "- i felt god telling me this is what makes me feel loved\n",
      "- i feel like a kid that s been naughty\n",
      "- i want to know feelings i never felt before but will i ever experience your gentle touch again\n",
      "- i to feel sympathetic about the children of the world and the bad messages that we send to them when we live in a lawless culture full of innuendo to the contrary\n",
      "\n",
      "\n",
      "Label 3 samples:\n",
      "- i gotta feeling da bul taewuhbeoryeo burn it up i gotta feeling niga ulbujitneun nal ah neoneun wiheomhae gal ttaekkaji gatsseo get away woooo becuz i m cuz i m dangerous b\n",
      "- i dont know who wrote the following little note but this is how i feel today if u r offended by the following posting then you obviously have not lived long enough to be compromised on how you act or believe\n",
      "- i feel too selfish to talk about you to anyone else thyroid for i do not want them to think i am just dramatic and whiny when really it is just hard for them to understand that yes someone can look fine and still feel terrible\n",
      "- i feel that i want what i need and know that i just need to bleed in this fucked up world of my own\n",
      "- i straight away started to feel my blood boil anger coming over me and that very nerve getting agitated\n",
      "\n",
      "\n",
      "Label 4 samples:\n",
      "- i came up with the following i m drawing a blank as to what this is called to help me when i am feeling fearful or attacked\n",
      "- i feel so uncomfortable about the word hero\n",
      "- im feeling all bashful exposed and vulnerable because my blog crush is out in the open now\n",
      "- i also always feel a little scared\n",
      "- i was sent home still feeling a bit shaky and dizzy\n",
      "\n",
      "\n",
      "Label 5 samples:\n",
      "- i know im making a big deal out of it but i feel quite shocked that i can drive\n",
      "- i feel about politics and i have been very shocked at myself for going into this realm though i think that it is at this time the most important considering everything that has been going on in the world stage and in the usa\n",
      "- im feeling a little dazed and confused today\n",
      "- im still feeling the effects today in that my body isnt particularly impressed by me at the moment and it feels a but stressed out trying to sort itself out\n",
      "- i feel like when i was a kid it was constantly impressed upon me how awesome ants are\n",
      "\n",
      "\n"
     ]
    }
   ],
   "source": [
    "import random\n",
    "\n",
    "# Get 5 random sentences per label\n",
    "samples_per_label = 5\n",
    "label_samples = {}\n",
    "\n",
    "for label in range(1, 6):  # Assuming labels are 1-5\n",
    "    sentences = train_df[train_df['label'] == label]['text'].tolist()\n",
    "    label_samples[label] = random.sample(sentences, min(samples_per_label, len(sentences)))\n",
    "\n",
    "# Display sampled sentences\n",
    "for label, samples in label_samples.items():\n",
    "    print(f\"Label {label} samples:\")\n",
    "    for sentence in samples:\n",
    "        print(f\"- {sentence}\")\n",
    "    print(\"\\n\")"
   ]
  },
  {
   "cell_type": "markdown",
   "id": "d5db6eff-9301-498a-b0b3-e91ddca5d490",
   "metadata": {},
   "source": [
    "TEXT PREPROCESSING:\n",
    "\n",
    "HERE WE CONVERT THE TEXT TO TO LOWER CASE THEN REMOVE THE PUNCTUATION AND SPECIAL CHARACTER AND CONSIDER STEMMING OR LEMMATIZATION TO NORMALISZE WORDS THEN WE REMOVE THE STOP WORDS AND KEEP THOSE WHICH IS IMPORTANT FOR EMOTION DETECTION"
   ]
  },
  {
   "cell_type": "code",
   "execution_count": 9,
   "id": "ad14b561-088f-4efd-a82d-daf9338a1396",
   "metadata": {},
   "outputs": [],
   "source": [
    "# Initialize NLTK's WordNetLemmatizer\n",
    "lemmatizer = WordNetLemmatizer()\n",
    "\n",
    "# Custom stopwords list (modify as needed)\n",
    "stop_words = set(stopwords.words('english'))\n",
    "keep_words = {\n",
    "    'not', 'no', 'very', 'too', 'but', 'and', 'or', 'so', 'yet',\n",
    "    'still', 'though', 'just', 'even', 'although', 'despite', 'unless'\n",
    "}\n",
    "stop_words = stop_words - keep_words\n",
    "\n",
    "def preprocess_text(text):\n",
    "    # 1. Lowercase\n",
    "    text = text.lower()\n",
    "\n",
    "    # 2. Remove URLs, mentions, and special characters\n",
    "    text = re.sub(r'http\\S+|www\\S+|@\\w+|[^\\w\\s]', '', text)\n",
    "    \n",
    "    # 3. Remove punctuation\n",
    "    text = text.translate(str.maketrans('', '', string.punctuation))\n",
    "    \n",
    "    # 4. Tokenize\n",
    "    tokens = nltk.word_tokenize(text)\n",
    "    \n",
    "    # 5. Remove stopwords\n",
    "    tokens = [word for word in tokens if word not in stop_words]\n",
    "    \n",
    "    # 6. Lemmatization (using NLTK's WordNetLemmatizer)\n",
    "    lemmatized = [lemmatizer.lemmatize(word) for word in tokens]\n",
    "    \n",
    "    return \" \".join(lemmatized)\n",
    "\n",
    "# Apply preprocessing to the 'text' column of train_df\n",
    "train_df['text'] = train_df['text'].apply(preprocess_text)"
   ]
  },
  {
   "cell_type": "code",
   "execution_count": 10,
   "id": "b8be99f9-86c9-438d-a94e-2f1e0618a8b9",
   "metadata": {},
   "outputs": [
    {
     "data": {
      "text/html": [
       "<div>\n",
       "<style scoped>\n",
       "    .dataframe tbody tr th:only-of-type {\n",
       "        vertical-align: middle;\n",
       "    }\n",
       "\n",
       "    .dataframe tbody tr th {\n",
       "        vertical-align: top;\n",
       "    }\n",
       "\n",
       "    .dataframe thead th {\n",
       "        text-align: right;\n",
       "    }\n",
       "</style>\n",
       "<table border=\"1\" class=\"dataframe\">\n",
       "  <thead>\n",
       "    <tr style=\"text-align: right;\">\n",
       "      <th></th>\n",
       "      <th>text</th>\n",
       "      <th>label</th>\n",
       "    </tr>\n",
       "  </thead>\n",
       "  <tbody>\n",
       "    <tr>\n",
       "      <th>0</th>\n",
       "      <td>didnt feel humiliated</td>\n",
       "      <td>0</td>\n",
       "    </tr>\n",
       "    <tr>\n",
       "      <th>1</th>\n",
       "      <td>go feeling so hopeless so damned hopeful just ...</td>\n",
       "      <td>0</td>\n",
       "    </tr>\n",
       "    <tr>\n",
       "      <th>2</th>\n",
       "      <td>im grabbing minute post feel greedy wrong</td>\n",
       "      <td>3</td>\n",
       "    </tr>\n",
       "    <tr>\n",
       "      <th>3</th>\n",
       "      <td>ever feeling nostalgic fireplace know still pr...</td>\n",
       "      <td>2</td>\n",
       "    </tr>\n",
       "    <tr>\n",
       "      <th>4</th>\n",
       "      <td>feeling grouchy</td>\n",
       "      <td>3</td>\n",
       "    </tr>\n",
       "  </tbody>\n",
       "</table>\n",
       "</div>"
      ],
      "text/plain": [
       "                                                text  label\n",
       "0                              didnt feel humiliated      0\n",
       "1  go feeling so hopeless so damned hopeful just ...      0\n",
       "2          im grabbing minute post feel greedy wrong      3\n",
       "3  ever feeling nostalgic fireplace know still pr...      2\n",
       "4                                    feeling grouchy      3"
      ]
     },
     "execution_count": 10,
     "metadata": {},
     "output_type": "execute_result"
    }
   ],
   "source": [
    "train_df.head()"
   ]
  },
  {
   "cell_type": "markdown",
   "id": "fbedf203-be16-4a5a-8ff6-b5ce95d431f3",
   "metadata": {},
   "source": [
    "FEATURE EXTRACTION:\n",
    "\n",
    "THERE ARE MANY METHODS FOR FEATURE EXTRACTION, BUT IN THIS PROJECT, WE WILL FOCUS ON THREE"
   ]
  },
  {
   "cell_type": "code",
   "execution_count": 12,
   "id": "b2f89e3a-a90f-4896-8d43-9bc7d0c77b74",
   "metadata": {},
   "outputs": [],
   "source": [
    "import pandas as pd\n",
    "import numpy as np\n",
    "from sklearn.feature_extraction.text import CountVectorizer, TfidfVectorizer\n",
    "from sklearn.model_selection import train_test_split\n",
    "import nltk\n",
    "import torch\n",
    "from transformers import BertTokenizer, BertModel\n",
    "import matplotlib.pyplot as plt\n",
    "\n",
    "# Split data\n",
    "X = train_df['text']\n",
    "y = train_df['label']\n",
    "X_train, X_test, y_train, y_test = train_test_split(X, y, test_size=0.2, random_state=42)\n"
   ]
  },
  {
   "cell_type": "markdown",
   "id": "6e3f0a73-7bb5-49dc-9022-99de6da60223",
   "metadata": {},
   "source": [
    "Bag of Words (BoW): \n",
    "\n",
    "A method to convert text into a vector based on word frequency."
   ]
  },
  {
   "cell_type": "code",
   "execution_count": 13,
   "id": "ae49a230-6ffd-4246-9764-0da1bd0c426e",
   "metadata": {},
   "outputs": [
    {
     "name": "stdout",
     "output_type": "stream",
     "text": [
      "\n",
      "1. Bag of Words / CountVectorizer\n",
      "BOW Transformation Shape: (12800, 1000)\n"
     ]
    }
   ],
   "source": [
    "#########################################################\n",
    "# 1. Bag of Words / CountVectorizer\n",
    "#########################################################\n",
    "print(\"\\n1. Bag of Words / CountVectorizer\")\n",
    "\n",
    "# Copy for BOW\n",
    "bow_df = train_df.copy()\n",
    "\n",
    "count_vectorizer = CountVectorizer(max_features=1000)\n",
    "X_train_bow = count_vectorizer.fit_transform(X_train)\n",
    "X_test_bow = count_vectorizer.transform(X_test)\n",
    "\n",
    "bow_feature_names = count_vectorizer.get_feature_names_out()\n",
    "train_bow_df = pd.DataFrame(X_train_bow.toarray(), columns=bow_feature_names)\n",
    "train_bow_df['label'] = y_train.values\n",
    "\n",
    "test_bow_df = pd.DataFrame(X_test_bow.toarray(), columns=bow_feature_names)\n",
    "test_bow_df['label'] = y_test.values\n",
    "\n",
    "print(\"BOW Transformation Shape:\", X_train_bow.shape)\n"
   ]
  },
  {
   "cell_type": "markdown",
   "id": "09ccaa0d-4260-4bca-92e4-adc75aabd677",
   "metadata": {},
   "source": [
    "TF-IDF: \n",
    "\n",
    "A technique that assigns weights to words based on their relevance."
   ]
  },
  {
   "cell_type": "code",
   "execution_count": 14,
   "id": "504d521a-cfc2-4295-bc55-84481396f94d",
   "metadata": {},
   "outputs": [
    {
     "name": "stdout",
     "output_type": "stream",
     "text": [
      "\n",
      "2. TF-IDF Vectorizer\n",
      "TF-IDF Transformation Shape: (12800, 1000)\n"
     ]
    }
   ],
   "source": [
    "#########################################################\n",
    "# 2. TF-IDF Vectorizer\n",
    "#########################################################\n",
    "print(\"\\n2. TF-IDF Vectorizer\")\n",
    "\n",
    "# Copy for TF-IDF\n",
    "tfidf_df = train_df.copy()\n",
    "\n",
    "tfidf_vectorizer = TfidfVectorizer(max_features=1000)\n",
    "X_train_tfidf = tfidf_vectorizer.fit_transform(X_train)\n",
    "X_test_tfidf = tfidf_vectorizer.transform(X_test)\n",
    "\n",
    "tfidf_feature_names = tfidf_vectorizer.get_feature_names_out()\n",
    "train_tfidf_df = pd.DataFrame(X_train_tfidf.toarray(), columns=tfidf_feature_names)\n",
    "train_tfidf_df['label'] = y_train.values\n",
    "\n",
    "test_tfidf_df = pd.DataFrame(X_test_tfidf.toarray(), columns=tfidf_feature_names)\n",
    "test_tfidf_df['label'] = y_test.values\n",
    "\n",
    "print(\"TF-IDF Transformation Shape:\", X_train_tfidf.shape)"
   ]
  },
  {
   "cell_type": "markdown",
   "id": "4358147c-b6d2-4b62-953e-c623e3a0af3c",
   "metadata": {},
   "source": [
    "Pretrained Language Models (BERT): \n",
    "\n",
    "A deep learning model used to capture contextual meaning in text."
   ]
  },
  {
   "cell_type": "code",
   "execution_count": 15,
   "id": "de9364be-4d61-4ab3-b035-264cd51afa85",
   "metadata": {},
   "outputs": [
    {
     "name": "stdout",
     "output_type": "stream",
     "text": [
      "\n",
      "3. Pre-trained Language Models (BERT)\n",
      "BERT Transformation Shape: (16000, 769)\n"
     ]
    }
   ],
   "source": [
    "#########################################################\n",
    "# 3. Pre-trained Language Models (BERT)\n",
    "#########################################################\n",
    "print(\"\\n3. Pre-trained Language Models (BERT)\")\n",
    "\n",
    "\n",
    "device = torch.device(\"cuda\" if torch.cuda.is_available() else \"cpu\")\n",
    "tokenizer = BertTokenizer.from_pretrained('bert-base-uncased')\n",
    "model = BertModel.from_pretrained('bert-base-uncased')\n",
    "model.to(device)\n",
    "\n",
    "def get_bert_embedding(text, tokenizer, model):\n",
    "    inputs = tokenizer(text, return_tensors=\"pt\", padding=True, truncation=True, max_length=128)\n",
    "    inputs = {k: v.to(device) for k, v in inputs.items()}\n",
    "    with torch.no_grad():\n",
    "        outputs = model(**inputs)\n",
    "    sentence_embedding = outputs.last_hidden_state[:, 0, :].cpu().numpy()\n",
    "    return sentence_embedding[0]\n",
    "\n",
    "# Get BERT embeddings for the full train_df\n",
    "bert_vectors = []\n",
    "\n",
    "for text in train_df['text']:\n",
    "    bert_vectors.append(get_bert_embedding(text, tokenizer, model))\n",
    "\n",
    "bert_vectors = np.array(bert_vectors)\n",
    "\n",
    "# Create BERT DataFrame\n",
    "bert_features_df = pd.DataFrame(bert_vectors, columns=[f'bert_{i}' for i in range(bert_vectors.shape[1])])\n",
    "bert_features_df['label'] = train_df['label'].values\n",
    "\n",
    "print(\"BERT Transformation Shape:\", bert_features_df.shape)"
   ]
  },
  {
   "cell_type": "markdown",
   "id": "5d097467-36d2-476f-812f-24f6331548ee",
   "metadata": {},
   "source": [
    "COMPARING ALL THREE METHODS:"
   ]
  },
  {
   "cell_type": "code",
   "execution_count": 19,
   "id": "e9c8be1f-1e35-42bb-bfbb-cfd8e31409d6",
   "metadata": {},
   "outputs": [
    {
     "data": {
      "text/html": [
       "<div>\n",
       "<style scoped>\n",
       "    .dataframe tbody tr th:only-of-type {\n",
       "        vertical-align: middle;\n",
       "    }\n",
       "\n",
       "    .dataframe tbody tr th {\n",
       "        vertical-align: top;\n",
       "    }\n",
       "\n",
       "    .dataframe thead th {\n",
       "        text-align: right;\n",
       "    }\n",
       "</style>\n",
       "<table border=\"1\" class=\"dataframe\">\n",
       "  <thead>\n",
       "    <tr style=\"text-align: right;\">\n",
       "      <th></th>\n",
       "      <th>bert_0</th>\n",
       "      <th>bert_1</th>\n",
       "      <th>bert_2</th>\n",
       "      <th>bert_3</th>\n",
       "      <th>bert_4</th>\n",
       "      <th>bert_5</th>\n",
       "      <th>bert_6</th>\n",
       "      <th>bert_7</th>\n",
       "      <th>bert_8</th>\n",
       "      <th>bert_9</th>\n",
       "      <th>...</th>\n",
       "      <th>bert_759</th>\n",
       "      <th>bert_760</th>\n",
       "      <th>bert_761</th>\n",
       "      <th>bert_762</th>\n",
       "      <th>bert_763</th>\n",
       "      <th>bert_764</th>\n",
       "      <th>bert_765</th>\n",
       "      <th>bert_766</th>\n",
       "      <th>bert_767</th>\n",
       "      <th>label</th>\n",
       "    </tr>\n",
       "  </thead>\n",
       "  <tbody>\n",
       "    <tr>\n",
       "      <th>0</th>\n",
       "      <td>-0.378248</td>\n",
       "      <td>0.463979</td>\n",
       "      <td>-0.239258</td>\n",
       "      <td>0.163592</td>\n",
       "      <td>-0.534104</td>\n",
       "      <td>-0.302850</td>\n",
       "      <td>0.503549</td>\n",
       "      <td>0.332513</td>\n",
       "      <td>0.225826</td>\n",
       "      <td>-0.221141</td>\n",
       "      <td>...</td>\n",
       "      <td>-0.235082</td>\n",
       "      <td>0.592954</td>\n",
       "      <td>0.034664</td>\n",
       "      <td>-0.357210</td>\n",
       "      <td>0.099080</td>\n",
       "      <td>-0.643126</td>\n",
       "      <td>-0.652154</td>\n",
       "      <td>0.585311</td>\n",
       "      <td>0.257307</td>\n",
       "      <td>0</td>\n",
       "    </tr>\n",
       "    <tr>\n",
       "      <th>1</th>\n",
       "      <td>-0.081902</td>\n",
       "      <td>-0.013504</td>\n",
       "      <td>-0.223530</td>\n",
       "      <td>-0.109440</td>\n",
       "      <td>-0.535047</td>\n",
       "      <td>-0.201180</td>\n",
       "      <td>0.149587</td>\n",
       "      <td>0.437907</td>\n",
       "      <td>-0.056229</td>\n",
       "      <td>-0.341022</td>\n",
       "      <td>...</td>\n",
       "      <td>-0.656898</td>\n",
       "      <td>0.096679</td>\n",
       "      <td>-0.084297</td>\n",
       "      <td>0.337633</td>\n",
       "      <td>0.412830</td>\n",
       "      <td>-0.423913</td>\n",
       "      <td>-0.671552</td>\n",
       "      <td>0.267394</td>\n",
       "      <td>0.280089</td>\n",
       "      <td>0</td>\n",
       "    </tr>\n",
       "    <tr>\n",
       "      <th>2</th>\n",
       "      <td>0.035976</td>\n",
       "      <td>0.424648</td>\n",
       "      <td>0.154659</td>\n",
       "      <td>-0.149515</td>\n",
       "      <td>-0.181266</td>\n",
       "      <td>-0.264295</td>\n",
       "      <td>0.308250</td>\n",
       "      <td>0.166854</td>\n",
       "      <td>0.189537</td>\n",
       "      <td>-0.317166</td>\n",
       "      <td>...</td>\n",
       "      <td>-0.251943</td>\n",
       "      <td>0.045781</td>\n",
       "      <td>0.053440</td>\n",
       "      <td>0.027152</td>\n",
       "      <td>0.108028</td>\n",
       "      <td>-0.071398</td>\n",
       "      <td>-0.515738</td>\n",
       "      <td>0.355519</td>\n",
       "      <td>0.232606</td>\n",
       "      <td>3</td>\n",
       "    </tr>\n",
       "    <tr>\n",
       "      <th>3</th>\n",
       "      <td>-0.405880</td>\n",
       "      <td>-0.006896</td>\n",
       "      <td>0.122234</td>\n",
       "      <td>-0.276819</td>\n",
       "      <td>-0.328255</td>\n",
       "      <td>-0.182529</td>\n",
       "      <td>0.365919</td>\n",
       "      <td>0.408862</td>\n",
       "      <td>-0.157338</td>\n",
       "      <td>-0.447405</td>\n",
       "      <td>...</td>\n",
       "      <td>-0.182431</td>\n",
       "      <td>0.103709</td>\n",
       "      <td>0.168277</td>\n",
       "      <td>0.239386</td>\n",
       "      <td>-0.188204</td>\n",
       "      <td>0.028110</td>\n",
       "      <td>-0.304267</td>\n",
       "      <td>0.193343</td>\n",
       "      <td>0.170983</td>\n",
       "      <td>2</td>\n",
       "    </tr>\n",
       "    <tr>\n",
       "      <th>4</th>\n",
       "      <td>-0.233594</td>\n",
       "      <td>0.166838</td>\n",
       "      <td>-0.166461</td>\n",
       "      <td>-0.062601</td>\n",
       "      <td>-0.447343</td>\n",
       "      <td>-0.335622</td>\n",
       "      <td>0.165123</td>\n",
       "      <td>0.450396</td>\n",
       "      <td>-0.052865</td>\n",
       "      <td>-0.432139</td>\n",
       "      <td>...</td>\n",
       "      <td>-0.242205</td>\n",
       "      <td>0.027121</td>\n",
       "      <td>-0.019943</td>\n",
       "      <td>0.164283</td>\n",
       "      <td>-0.036892</td>\n",
       "      <td>-0.149714</td>\n",
       "      <td>-0.287563</td>\n",
       "      <td>0.190996</td>\n",
       "      <td>0.013374</td>\n",
       "      <td>3</td>\n",
       "    </tr>\n",
       "  </tbody>\n",
       "</table>\n",
       "<p>5 rows × 769 columns</p>\n",
       "</div>"
      ],
      "text/plain": [
       "     bert_0    bert_1    bert_2    bert_3    bert_4    bert_5    bert_6  \\\n",
       "0 -0.378248  0.463979 -0.239258  0.163592 -0.534104 -0.302850  0.503549   \n",
       "1 -0.081902 -0.013504 -0.223530 -0.109440 -0.535047 -0.201180  0.149587   \n",
       "2  0.035976  0.424648  0.154659 -0.149515 -0.181266 -0.264295  0.308250   \n",
       "3 -0.405880 -0.006896  0.122234 -0.276819 -0.328255 -0.182529  0.365919   \n",
       "4 -0.233594  0.166838 -0.166461 -0.062601 -0.447343 -0.335622  0.165123   \n",
       "\n",
       "     bert_7    bert_8    bert_9  ...  bert_759  bert_760  bert_761  bert_762  \\\n",
       "0  0.332513  0.225826 -0.221141  ... -0.235082  0.592954  0.034664 -0.357210   \n",
       "1  0.437907 -0.056229 -0.341022  ... -0.656898  0.096679 -0.084297  0.337633   \n",
       "2  0.166854  0.189537 -0.317166  ... -0.251943  0.045781  0.053440  0.027152   \n",
       "3  0.408862 -0.157338 -0.447405  ... -0.182431  0.103709  0.168277  0.239386   \n",
       "4  0.450396 -0.052865 -0.432139  ... -0.242205  0.027121 -0.019943  0.164283   \n",
       "\n",
       "   bert_763  bert_764  bert_765  bert_766  bert_767  label  \n",
       "0  0.099080 -0.643126 -0.652154  0.585311  0.257307      0  \n",
       "1  0.412830 -0.423913 -0.671552  0.267394  0.280089      0  \n",
       "2  0.108028 -0.071398 -0.515738  0.355519  0.232606      3  \n",
       "3 -0.188204  0.028110 -0.304267  0.193343  0.170983      2  \n",
       "4 -0.036892 -0.149714 -0.287563  0.190996  0.013374      3  \n",
       "\n",
       "[5 rows x 769 columns]"
      ]
     },
     "execution_count": 19,
     "metadata": {},
     "output_type": "execute_result"
    }
   ],
   "source": [
    "bert_features_df.head()"
   ]
  },
  {
   "cell_type": "code",
   "execution_count": 17,
   "id": "54567784-b9eb-4dbe-b9df-96e313c11234",
   "metadata": {},
   "outputs": [
    {
     "data": {
      "image/png": "[encoded data removed]",
      "text/plain": [
       "<Figure size 1000x600 with 1 Axes>"
      ]
     },
     "metadata": {},
     "output_type": "display_data"
    },
    {
     "name": "stdout",
     "output_type": "stream",
     "text": [
      "\n",
      "Feature Count Comparison:\n",
      "Bag of Words: 1000 features\n",
      "TF-IDF: 1000 features\n",
      "BERT: 768 features\n"
     ]
    }
   ],
   "source": [
    "#########################################################\n",
    "# Visualization for Comparison\n",
    "#########################################################\n",
    "feature_counts = {\n",
    "    'Bag of Words': len(bow_feature_names),\n",
    "    'TF-IDF': len(tfidf_feature_names),\n",
    "    'BERT': bert_vectors.shape[1]\n",
    "}\n",
    "\n",
    "plt.figure(figsize=(10, 6))\n",
    "plt.bar(feature_counts.keys(), feature_counts.values(), color=['blue', 'green', 'red'])\n",
    "plt.title('Number of Features by Extraction Method')\n",
    "plt.ylabel('Number of Features')\n",
    "plt.tight_layout()\n",
    "plt.show()\n",
    "\n",
    "print(\"\\nFeature Count Comparison:\")\n",
    "for method, count in feature_counts.items():\n",
    "    print(f\"{method}: {count} features\")"
   ]
  },
  {
   "cell_type": "markdown",
   "id": "0aa24720-4fcc-4969-86c2-f56918f08e01",
   "metadata": {},
   "source": [
    "Splitting Your Dataset"
   ]
  },
  {
   "cell_type": "code",
   "execution_count": null,
   "id": "a79ba156-42b5-441d-a0e6-d7c8ec612194",
   "metadata": {},
   "outputs": [],
   "source": [
    "from sklearn.model_selection import train_test_split\n",
    "\n"
   ]
  }
 ],
 "metadata": {
  "kernelspec": {
   "display_name": "Python 3 (ipykernel)",
   "language": "python",
   "name": "python3"
  },
  "language_info": {
   "codemirror_mode": {
    "name": "ipython",
    "version": 3
   },
   "file_extension": ".py",
   "mimetype": "text/x-python",
   "name": "python",
   "nbconvert_exporter": "python",
   "pygments_lexer": "ipython3",
   "version": "3.13.2"
  }
 },
 "nbformat": 4,
 "nbformat_minor": 5
}
